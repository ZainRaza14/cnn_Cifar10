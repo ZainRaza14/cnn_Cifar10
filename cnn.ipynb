{
 "cells": [
  {
   "cell_type": "markdown",
   "metadata": {},
   "source": [
    "# Home 3: Build a CNN for image recognition.\n",
    "\n",
    "### Name: [Syed Zain Raza]\n"
   ]
  },
  {
   "cell_type": "markdown",
   "metadata": {},
   "source": [
    "## 0. You will do the following:\n",
    "\n",
    "1. Read, complete, and run my code.\n",
    "\n",
    "2. **Make substantial improvements** to maximize the accurcy.\n",
    "    \n",
    "3. Convert the .IPYNB file to .HTML file.\n",
    "\n",
    "    * The HTML file must contain the code and the output after execution.\n",
    "    \n",
    "4. Upload this .HTML file to your Github repo.\n",
    "\n",
    "4. Submit the link to this .HTML file to Canvas.\n",
    "\n",
    "    * Example: https://github.com/wangshusen/CS583A-2019Spring/blob/master/homework/HM3/cnn.html\n"
   ]
  },
  {
   "cell_type": "markdown",
   "metadata": {},
   "source": [
    "## 1. Data preparation"
   ]
  },
  {
   "cell_type": "markdown",
   "metadata": {},
   "source": [
    "### 1.1. Load data\n"
   ]
  },
  {
   "cell_type": "code",
   "execution_count": 1,
   "metadata": {},
   "outputs": [],
   "source": [
    "from sklearn.preprocessing import OneHotEncoder "
   ]
  },
  {
   "cell_type": "code",
   "execution_count": 2,
   "metadata": {},
   "outputs": [
    {
     "name": "stderr",
     "output_type": "stream",
     "text": [
      "Using TensorFlow backend.\n"
     ]
    },
    {
     "name": "stdout",
     "output_type": "stream",
     "text": [
      "shape of x_train: (50000, 32, 32, 3)\n",
      "shape of y_train: (50000, 1)\n",
      "shape of x_test: (10000, 32, 32, 3)\n",
      "shape of y_test: (10000, 1)\n",
      "number of classes: 10\n"
     ]
    }
   ],
   "source": [
    "from keras.datasets import cifar10\n",
    "import numpy as np\n",
    "\n",
    "(x_train, y_train), (x_test, y_test) = cifar10.load_data()\n",
    "\n",
    "x_train = x_train.astype('float32')\n",
    "x_test = x_test.astype('float32')\n",
    "\n",
    "#print (x_train[1])\n",
    "\n",
    "print('shape of x_train: ' + str(x_train.shape))\n",
    "print('shape of y_train: ' + str(y_train.shape))\n",
    "print('shape of x_test: ' + str(x_test.shape))\n",
    "print('shape of y_test: ' + str(y_test.shape))\n",
    "print('number of classes: ' + str(np.max(y_train) - np.min(y_train) + 1))"
   ]
  },
  {
   "cell_type": "code",
   "execution_count": 3,
   "metadata": {},
   "outputs": [
    {
     "name": "stdout",
     "output_type": "stream",
     "text": [
      "(32, 32, 3)\n"
     ]
    }
   ],
   "source": [
    "print (x_train.shape[1:])"
   ]
  },
  {
   "cell_type": "markdown",
   "metadata": {},
   "source": [
    "### Preprocessing"
   ]
  },
  {
   "cell_type": "code",
   "execution_count": 4,
   "metadata": {},
   "outputs": [],
   "source": [
    "mean = np.mean(x_train,axis=(0,1,2,3))\n",
    "\n",
    "std = np.std(x_train,axis=(0,1,2,3))\n",
    "\n",
    "x_train = (x_train-mean)/(std+1e-7)\n",
    "\n",
    "x_test = (x_test-mean)/(std+1e-7)"
   ]
  },
  {
   "cell_type": "markdown",
   "metadata": {},
   "source": [
    "### 1.2. One-hot encode the labels\n",
    "\n",
    "In the input, a label is a scalar in $\\{0, 1, \\cdots , 9\\}$. One-hot encode transform such a scalar to a $10$-dim vector. E.g., a scalar ```y_train[j]=3``` is transformed to the vector ```y_train_vec[j]=[0, 0, 0, 1, 0, 0, 0, 0, 0, 0]```.\n",
    "\n",
    "1. Define a function ```to_one_hot``` that transforms an $n\\times 1$ array to a $n\\times 10$ matrix.\n",
    "\n",
    "2. Apply the function to ```y_train``` and ```y_test```."
   ]
  },
  {
   "cell_type": "code",
   "execution_count": 5,
   "metadata": {},
   "outputs": [
    {
     "name": "stdout",
     "output_type": "stream",
     "text": [
      "Shape of y_train_vec: (50000, 10)\n",
      "Shape of y_test_vec: (10000, 10)\n",
      "[6]\n",
      "[0. 0. 0. 0. 0. 0. 1. 0. 0. 0.]\n"
     ]
    }
   ],
   "source": [
    "def to_one_hot(y, num_class=10):\n",
    "    a = OneHotEncoder(n_values = num_class)\n",
    "    b = a.fit_transform(y).toarray()\n",
    "    return b\n",
    "\n",
    "y_train_vec = to_one_hot(y_train)\n",
    "y_test_vec = to_one_hot(y_test)\n",
    "\n",
    "print('Shape of y_train_vec: ' + str(y_train_vec.shape))\n",
    "print('Shape of y_test_vec: ' + str(y_test_vec.shape))\n",
    "\n",
    "print(y_train[0])\n",
    "print(y_train_vec[0])"
   ]
  },
  {
   "cell_type": "markdown",
   "metadata": {},
   "source": [
    "#### Remark: the outputs should be\n",
    "* Shape of y_train_vec: (50000, 10)\n",
    "* Shape of y_test_vec: (10000, 10)\n",
    "* [6]\n",
    "* [0. 0. 0. 0. 0. 0. 1. 0. 0. 0.]"
   ]
  },
  {
   "cell_type": "markdown",
   "metadata": {},
   "source": [
    "### 1.3. Randomly partition the training set to training and validation sets\n",
    "\n",
    "Randomly partition the 50K training samples to 2 sets:\n",
    "* a training set containing 40K samples\n",
    "* a validation set containing 10K samples\n"
   ]
  },
  {
   "cell_type": "code",
   "execution_count": 6,
   "metadata": {},
   "outputs": [
    {
     "name": "stdout",
     "output_type": "stream",
     "text": [
      "Shape of x_tr: (40000, 32, 32, 3)\n",
      "Shape of y_tr: (40000, 10)\n",
      "Shape of x_val: (10000, 32, 32, 3)\n",
      "Shape of y_val: (10000, 10)\n"
     ]
    }
   ],
   "source": [
    "rand_indices = np.random.permutation(50000)\n",
    "train_indices = rand_indices[0:40000]\n",
    "valid_indices = rand_indices[40000:50000]\n",
    "\n",
    "x_val = x_train[valid_indices, :]\n",
    "y_val = y_train_vec[valid_indices, :]\n",
    "\n",
    "x_tr = x_train[train_indices, :]\n",
    "y_tr = y_train_vec[train_indices, :]\n",
    "\n",
    "print('Shape of x_tr: ' + str(x_tr.shape))\n",
    "print('Shape of y_tr: ' + str(y_tr.shape))\n",
    "print('Shape of x_val: ' + str(x_val.shape))\n",
    "print('Shape of y_val: ' + str(y_val.shape))"
   ]
  },
  {
   "cell_type": "markdown",
   "metadata": {},
   "source": [
    "## 2. Build a CNN and tune its hyper-parameters\n",
    "\n",
    "1. Build a convolutional neural network model\n",
    "2. Use the validation data to tune the hyper-parameters (e.g., network structure, and optimization algorithm)\n",
    "    * Do NOT use test data for hyper-parameter tuning!!!\n",
    "3. Try to achieve a validation accuracy as high as possible."
   ]
  },
  {
   "cell_type": "markdown",
   "metadata": {},
   "source": [
    "### Remark: \n",
    "\n",
    "The following CNN is just an example. You are supposed to make **substantial improvements** such as:\n",
    "* Add more layers.\n",
    "* Use regularizations, e.g., dropout.\n",
    "* Use batch normalization."
   ]
  },
  {
   "cell_type": "code",
   "execution_count": 7,
   "metadata": {},
   "outputs": [
    {
     "name": "stdout",
     "output_type": "stream",
     "text": [
      "_________________________________________________________________\n",
      "Layer (type)                 Output Shape              Param #   \n",
      "=================================================================\n",
      "conv2d_1 (Conv2D)            (None, 32, 32, 32)        896       \n",
      "_________________________________________________________________\n",
      "batch_normalization_1 (Batch (None, 32, 32, 32)        128       \n",
      "_________________________________________________________________\n",
      "conv2d_2 (Conv2D)            (None, 32, 32, 32)        9248      \n",
      "_________________________________________________________________\n",
      "batch_normalization_2 (Batch (None, 32, 32, 32)        128       \n",
      "_________________________________________________________________\n",
      "max_pooling2d_1 (MaxPooling2 (None, 16, 16, 32)        0         \n",
      "_________________________________________________________________\n",
      "dropout_1 (Dropout)          (None, 16, 16, 32)        0         \n",
      "_________________________________________________________________\n",
      "conv2d_3 (Conv2D)            (None, 16, 16, 64)        18496     \n",
      "_________________________________________________________________\n",
      "batch_normalization_3 (Batch (None, 16, 16, 64)        256       \n",
      "_________________________________________________________________\n",
      "conv2d_4 (Conv2D)            (None, 16, 16, 64)        36928     \n",
      "_________________________________________________________________\n",
      "batch_normalization_4 (Batch (None, 16, 16, 64)        256       \n",
      "_________________________________________________________________\n",
      "max_pooling2d_2 (MaxPooling2 (None, 8, 8, 64)          0         \n",
      "_________________________________________________________________\n",
      "dropout_2 (Dropout)          (None, 8, 8, 64)          0         \n",
      "_________________________________________________________________\n",
      "conv2d_5 (Conv2D)            (None, 8, 8, 128)         73856     \n",
      "_________________________________________________________________\n",
      "batch_normalization_5 (Batch (None, 8, 8, 128)         512       \n",
      "_________________________________________________________________\n",
      "conv2d_6 (Conv2D)            (None, 8, 8, 128)         147584    \n",
      "_________________________________________________________________\n",
      "batch_normalization_6 (Batch (None, 8, 8, 128)         512       \n",
      "_________________________________________________________________\n",
      "max_pooling2d_3 (MaxPooling2 (None, 4, 4, 128)         0         \n",
      "_________________________________________________________________\n",
      "dropout_3 (Dropout)          (None, 4, 4, 128)         0         \n",
      "_________________________________________________________________\n",
      "flatten_1 (Flatten)          (None, 2048)              0         \n",
      "_________________________________________________________________\n",
      "dense_1 (Dense)              (None, 128)               262272    \n",
      "_________________________________________________________________\n",
      "dense_2 (Dense)              (None, 10)                1290      \n",
      "=================================================================\n",
      "Total params: 552,362\n",
      "Trainable params: 551,466\n",
      "Non-trainable params: 896\n",
      "_________________________________________________________________\n"
     ]
    }
   ],
   "source": [
    "from keras.layers import Conv2D, MaxPooling2D, Flatten, Dense\n",
    "from keras.layers import Dense, Activation, Flatten, Dropout, BatchNormalization\n",
    "from keras.models import Sequential\n",
    "from keras import regularizers\n",
    "\n",
    "# For regularization\n",
    "w_decay = 1e-4\n",
    "\n",
    "model = Sequential()\n",
    "\n",
    "model.add(Conv2D(32, (3,3), padding='same', kernel_regularizer=regularizers.l2(w_decay), input_shape=x_train.shape[1:]))\n",
    "model.add(BatchNormalization())\n",
    "model.add(Conv2D(32, (3, 3), activation='relu', padding='same', kernel_regularizer=regularizers.l2(w_decay)))\n",
    "model.add(BatchNormalization())\n",
    "model.add(MaxPooling2D((2, 2)))\n",
    "model.add(Dropout(0.2))\n",
    "\n",
    "model.add(Conv2D(64, (3, 3), activation='relu', padding='same', kernel_regularizer=regularizers.l2(w_decay)))\n",
    "model.add(BatchNormalization())\n",
    "model.add(Conv2D(64, (3, 3), activation='relu', padding='same', kernel_regularizer=regularizers.l2(w_decay)))\n",
    "model.add(BatchNormalization())\n",
    "model.add(MaxPooling2D((2, 2)))\n",
    "model.add(Dropout(0.3))\n",
    "\n",
    "model.add(Conv2D(128, (3, 3), activation='relu', padding='same', kernel_regularizer=regularizers.l2(w_decay)))\n",
    "model.add(BatchNormalization())\n",
    "model.add(Conv2D(128, (3, 3), activation='relu', padding='same', kernel_regularizer=regularizers.l2(w_decay)))\n",
    "model.add(BatchNormalization())\n",
    "model.add(MaxPooling2D((2, 2)))\n",
    "model.add(Dropout(0.4))\n",
    "\n",
    "model.add(Flatten())\n",
    "model.add(Dense(128, activation='relu'))\n",
    "model.add(Dense(10, activation='softmax'))\n",
    "\n",
    "model.summary()"
   ]
  },
  {
   "cell_type": "code",
   "execution_count": 8,
   "metadata": {},
   "outputs": [],
   "source": [
    "# data augmentation\n",
    "\n",
    "#from keras.preprocessing.image import ImageDataGenerator\n",
    "\n",
    "#dg = ImageDataGenerator(rotation_range=15, width_shift_range=0.1, height_shift_range=0.1, horizontal_flip=True)\n",
    "\n",
    "#dg.fit(x_tr)"
   ]
  },
  {
   "cell_type": "code",
   "execution_count": 9,
   "metadata": {},
   "outputs": [],
   "source": [
    "from keras import optimizers\n",
    "\n",
    "#learning_rate = 0.0008 # to be tuned!\n",
    "\n",
    "model.compile(loss='categorical_crossentropy',\n",
    "              optimizer=optimizers.RMSprop(lr=0.001,decay=1e-6),\n",
    "              metrics=['acc'])"
   ]
  },
  {
   "cell_type": "code",
   "execution_count": 10,
   "metadata": {},
   "outputs": [
    {
     "name": "stdout",
     "output_type": "stream",
     "text": [
      "Train on 40000 samples, validate on 10000 samples\n",
      "Epoch 1/20\n",
      "40000/40000 [==============================] - 70s 2ms/step - loss: 1.5450 - acc: 0.4748 - val_loss: 1.2926 - val_acc: 0.5770ac\n",
      "Epoch 2/20\n",
      "40000/40000 [==============================] - 21s 525us/step - loss: 1.1120 - acc: 0.6407 - val_loss: 0.9409 - val_acc: 0.7057\n",
      "Epoch 3/20\n",
      "40000/40000 [==============================] - 21s 533us/step - loss: 0.9898 - acc: 0.6939 - val_loss: 0.9223 - val_acc: 0.7183\n",
      "Epoch 4/20\n",
      "40000/40000 [==============================] - 21s 533us/step - loss: 0.9252 - acc: 0.7230 - val_loss: 0.8717 - val_acc: 0.7475\n",
      "Epoch 5/20\n",
      "40000/40000 [==============================] - 22s 539us/step - loss: 0.8899 - acc: 0.7412 - val_loss: 0.8462 - val_acc: 0.7605\n",
      "Epoch 6/20\n",
      "40000/40000 [==============================] - 22s 545us/step - loss: 0.8477 - acc: 0.7598 - val_loss: 0.8648 - val_acc: 0.7579\n",
      "Epoch 7/20\n",
      "40000/40000 [==============================] - 22s 539us/step - loss: 0.8186 - acc: 0.7725 - val_loss: 0.8609 - val_acc: 0.7619\n",
      "Epoch 8/20\n",
      "40000/40000 [==============================] - 21s 532us/step - loss: 0.7953 - acc: 0.7826 - val_loss: 0.7871 - val_acc: 0.7916\n",
      "Epoch 9/20\n",
      "40000/40000 [==============================] - 21s 531us/step - loss: 0.7791 - acc: 0.7926 - val_loss: 0.8408 - val_acc: 0.7842- ETA: 6s - loss: 0 - ETA: 0s - loss: 0.7793 - a\n",
      "Epoch 10/20\n",
      "40000/40000 [==============================] - 21s 533us/step - loss: 0.7427 - acc: 0.8061 - val_loss: 0.8406 - val_acc: 0.7871\n",
      "Epoch 11/20\n",
      "40000/40000 [==============================] - 23s 587us/step - loss: 0.7310 - acc: 0.8132 - val_loss: 0.8346 - val_acc: 0.7949\n",
      "Epoch 12/20\n",
      "40000/40000 [==============================] - 22s 542us/step - loss: 0.7054 - acc: 0.8212 - val_loss: 0.8542 - val_acc: 0.7883\n",
      "Epoch 13/20\n",
      "40000/40000 [==============================] - 22s 543us/step - loss: 0.6875 - acc: 0.8302 - val_loss: 0.7975 - val_acc: 0.8081\n",
      "Epoch 14/20\n",
      "40000/40000 [==============================] - 22s 550us/step - loss: 0.6665 - acc: 0.8399 - val_loss: 0.7424 - val_acc: 0.8170\n",
      "Epoch 15/20\n",
      "40000/40000 [==============================] - 21s 536us/step - loss: 0.6489 - acc: 0.8438 - val_loss: 0.7636 - val_acc: 0.8177\n",
      "Epoch 16/20\n",
      "40000/40000 [==============================] - 22s 540us/step - loss: 0.6335 - acc: 0.8506 - val_loss: 0.7858 - val_acc: 0.8232\n",
      "Epoch 17/20\n",
      "40000/40000 [==============================] - 21s 535us/step - loss: 0.6238 - acc: 0.8547 - val_loss: 0.7629 - val_acc: 0.8234\n",
      "Epoch 18/20\n",
      "40000/40000 [==============================] - 21s 531us/step - loss: 0.6084 - acc: 0.8591 - val_loss: 0.7344 - val_acc: 0.8272\n",
      "Epoch 19/20\n",
      "40000/40000 [==============================] - 21s 531us/step - loss: 0.5902 - acc: 0.8648 - val_loss: 0.7459 - val_acc: 0.82675891 - ac - ETA: 1s - lo\n",
      "Epoch 20/20\n",
      "40000/40000 [==============================] - 21s 534us/step - loss: 0.5814 - acc: 0.8715 - val_loss: 0.7196 - val_acc: 0.8323\n"
     ]
    }
   ],
   "source": [
    "history = model.fit(x_tr, y_tr, batch_size=32, epochs=20, validation_data=(x_val, y_val))"
   ]
  },
  {
   "cell_type": "code",
   "execution_count": 11,
   "metadata": {},
   "outputs": [
    {
     "data": {
      "image/png": "[encoded data removed]",
      "text/plain": [
       "<Figure size 432x288 with 1 Axes>"
      ]
     },
     "metadata": {
      "needs_background": "light"
     },
     "output_type": "display_data"
    }
   ],
   "source": [
    "import matplotlib.pyplot as plt\n",
    "%matplotlib inline\n",
    "\n",
    "acc = history.history['acc']\n",
    "val_acc = history.history['val_acc']\n",
    "\n",
    "epochs = range(len(acc))\n",
    "\n",
    "plt.plot(epochs, acc, 'bo', label='Training acc')\n",
    "plt.plot(epochs, val_acc, 'r', label='Validation acc')\n",
    "plt.xlabel('Epochs')\n",
    "plt.ylabel('Accuracy')\n",
    "plt.legend()\n",
    "plt.show()"
   ]
  },
  {
   "cell_type": "markdown",
   "metadata": {},
   "source": [
    "## 3. Train (again) and evaluate the model\n",
    "\n",
    "- To this end, you have found the \"best\" hyper-parameters. \n",
    "- Now, fix the hyper-parameters and train the network on the entire training set (all the 50K training samples)\n",
    "- Evaluate your model on the test set."
   ]
  },
  {
   "cell_type": "markdown",
   "metadata": {},
   "source": [
    "### 3.1. Train the model on the entire training set\n",
    "\n",
    "Why? Previously, you used 40K samples for training; you wasted 10K samples for the sake of hyper-parameter tuning. Now you already know the hyper-parameters, so why not using all the 50K samples for training?"
   ]
  },
  {
   "cell_type": "code",
   "execution_count": 12,
   "metadata": {},
   "outputs": [],
   "source": [
    "model.compile(loss='categorical_crossentropy',\n",
    "              optimizer=optimizers.RMSprop(lr=0.001,decay=1e-6),\n",
    "              metrics=['acc'])"
   ]
  },
  {
   "cell_type": "code",
   "execution_count": 13,
   "metadata": {},
   "outputs": [
    {
     "name": "stdout",
     "output_type": "stream",
     "text": [
      "Epoch 1/20\n",
      "50000/50000 [==============================] - 27s 535us/step - loss: 0.6468 - acc: 0.8492\n",
      "Epoch 2/20\n",
      "50000/50000 [==============================] - 26s 529us/step - loss: 0.6243 - acc: 0.8581\n",
      "Epoch 3/20\n",
      "50000/50000 [==============================] - 25s 494us/step - loss: 0.6125 - acc: 0.8609\n",
      "Epoch 4/20\n",
      "50000/50000 [==============================] - 25s 492us/step - loss: 0.5995 - acc: 0.8649\n",
      "Epoch 5/20\n",
      "50000/50000 [==============================] - 25s 491us/step - loss: 0.5885 - acc: 0.8690\n",
      "Epoch 6/20\n",
      "50000/50000 [==============================] - 25s 493us/step - loss: 0.5816 - acc: 0.87110s - loss: 0.5818 - acc:\n",
      "Epoch 7/20\n",
      "50000/50000 [==============================] - 25s 495us/step - loss: 0.5751 - acc: 0.8742\n",
      "Epoch 8/20\n",
      "50000/50000 [==============================] - 25s 491us/step - loss: 0.5722 - acc: 0.8757\n",
      "Epoch 9/20\n",
      "50000/50000 [==============================] - 25s 498us/step - loss: 0.5654 - acc: 0.87898s - loss: 0.5556 - acc: 0.8 - ETA: 8s - lo - ETA: 4s - loss: 0.5605 - - ETA: 3s - loss: 0.561 - \n",
      "Epoch 10/20\n",
      "50000/50000 [==============================] - 25s 497us/step - loss: 0.5638 - acc: 0.878511s - los - ETA: - ETA: 1s - loss: 0.5627 - acc: 0. - ETA: 1s - loss: 0. - ETA: 0s - loss: 0.5642 - acc: 0.\n",
      "Epoch 11/20\n",
      "50000/50000 [==============================] - 25s 495us/step - loss: 0.5550 - acc: 0.881310s - loss: 0.5486 - acc - ETA: 9s - loss: 0.5491 - a - ETA: 9s - - ETA: - ETA: 0s - loss: 0.5539 - acc:\n",
      "Epoch 12/20\n",
      "50000/50000 [==============================] - 25s 496us/step - loss: 0.5552 - acc: 0.8820\n",
      "Epoch 13/20\n",
      "50000/50000 [==============================] - 25s 498us/step - loss: 0.5515 - acc: 0.8833\n",
      "Epoch 14/20\n",
      "50000/50000 [==============================] - 25s 500us/step - loss: 0.5458 - acc: 0.88441s - loss: 0.5441 - ETA: 0s - loss: 0.5459 - acc: 0.\n",
      "Epoch 15/20\n",
      "50000/50000 [==============================] - 25s 497us/step - loss: 0.5490 - acc: 0.88640s - loss: 0.5480 - \n",
      "Epoch 16/20\n",
      "50000/50000 [==============================] - 25s 503us/step - loss: 0.5409 - acc: 0.88781s -\n",
      "Epoch 17/20\n",
      "50000/50000 [==============================] - 26s 528us/step - loss: 0.5396 - acc: 0.8879\n",
      "Epoch 18/20\n",
      "50000/50000 [==============================] - 25s 497us/step - loss: 0.5373 - acc: 0.88831s - los\n",
      "Epoch 19/20\n",
      "50000/50000 [==============================] - 25s 503us/step - loss: 0.5390 - acc: 0.8911\n",
      "Epoch 20/20\n",
      "50000/50000 [==============================] - 25s 496us/step - loss: 0.5392 - acc: 0.8896\n"
     ]
    }
   ],
   "source": [
    "#Train your model on the entire training set (50K samples)>\n",
    "#Use (x_train, y_train_vec) instead of (x_tr, y_tr)>\n",
    "#Do NOT use the validation_data option (because now you do not have validation data)>\n",
    "\n",
    "#dg.fit(x_train)\n",
    "\n",
    "history = model.fit(x_train, y_train_vec, batch_size=32, epochs=20)"
   ]
  },
  {
   "cell_type": "markdown",
   "metadata": {},
   "source": [
    "### 3.2. Evaluate the model on the test set\n",
    "\n",
    "Do NOT used the test set until now. Make sure that your model parameters and hyper-parameters are independent of the test set."
   ]
  },
  {
   "cell_type": "code",
   "execution_count": 14,
   "metadata": {},
   "outputs": [
    {
     "name": "stdout",
     "output_type": "stream",
     "text": [
      "10000/10000 [==============================] - 3s 338us/step\n",
      "loss = 0.7075126354217529\n",
      "accuracy = 0.8518\n"
     ]
    }
   ],
   "source": [
    "loss_and_acc = model.evaluate(x_test, y_test_vec)\n",
    "print('loss = ' + str(loss_and_acc[0]))\n",
    "print('accuracy = ' + str(loss_and_acc[1]))"
   ]
  },
  {
   "cell_type": "code",
   "execution_count": null,
   "metadata": {},
   "outputs": [],
   "source": []
  }
 ],
 "metadata": {
  "kernelspec": {
   "display_name": "Python 3",
   "language": "python",
   "name": "python3"
  },
  "language_info": {
   "codemirror_mode": {
    "name": "ipython",
    "version": 3
   },
   "file_extension": ".py",
   "mimetype": "text/x-python",
   "name": "python",
   "nbconvert_exporter": "python",
   "pygments_lexer": "ipython3",
   "version": "3.6.7"
  }
 },
 "nbformat": 4,
 "nbformat_minor": 2
}
